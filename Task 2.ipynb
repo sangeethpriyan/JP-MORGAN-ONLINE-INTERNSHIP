{
  "nbformat": 4,
  "nbformat_minor": 0,
  "metadata": {
    "colab": {
      "provenance": [],
      "authorship_tag": "ABX9TyPk7q2tnYPJDZYbydp9P3BC",
      "include_colab_link": true
    },
    "kernelspec": {
      "name": "python3",
      "display_name": "Python 3"
    },
    "language_info": {
      "name": "python"
    }
  },
  "cells": [
    {
      "cell_type": "markdown",
      "metadata": {
        "id": "view-in-github",
        "colab_type": "text"
      },
      "source": [
        "<a href=\"https://colab.research.google.com/github/sangeethpriyan/JP-MORGAN-ONLINE-INTERNSHIP/blob/main/Task%202.ipynb\" target=\"_parent\"><img src=\"https://colab.research.google.com/assets/colab-badge.svg\" alt=\"Open In Colab\"/></a>"
      ]
    },
    {
      "cell_type": "code",
      "source": [
        "\n",
        "From 359ec3f820b526c980de52d0396cd7093d5380cf Mon Sep 17 00:00:00 2001\n",
        "From: Joe Ferrer <joe@insidesherpa.com>\n",
        "Date: Wed, 16 Oct 2019 13:39:08 +0800\n",
        "Subject: [PATCH] Make model solution\n",
        "\n",
        "---\n",
        " src/App.tsx   | 24 ++++++++++++++++++------\n",
        " src/Graph.tsx | 14 ++++++++++----\n",
        " 2 files changed, 28 insertions(+), 10 deletions(-)\n",
        "\n",
        "diff --git a/src/App.tsx b/src/App.tsx\n",
        "index 0728518..b83f979 100755\n",
        "--- a/src/App.tsx\n",
        "+++ b/src/App.tsx\n",
        "@@ -8,6 +8,7 @@ import './App.css';\n",
        "  */\n",
        " interface IState {\n",
        "   data: ServerRespond[],\n",
        "+  showGraph: boolean,\n",
        " }\n",
        "\n",
        " /**\n",
        "@@ -22,6 +23,7 @@ class App extends Component<{}, IState> {\n",
        "       // data saves the server responds.\n",
        "       // We use this state to parse data down to the child element (Graph) as element property\n",
        "       data: [],\n",
        "+      showGraph: false,\n",
        "     };\n",
        "   }\n",
        "\n",
        "@@ -29,18 +31,28 @@ class App extends Component<{}, IState> {\n",
        "    * Render Graph react component with state.data parse as property data\n",
        "    */\n",
        "   renderGraph() {\n",
        "-    return (<Graph data={this.state.data}/>)\n",
        "+    if (this.state.showGraph) {\n",
        "+      return (<Graph data={this.state.data}/>)\n",
        "+    }\n",
        "   }\n",
        "\n",
        "   /**\n",
        "    * Get new data from server and update the state with the new data\n",
        "    */\n",
        "   getDataFromServer() {\n",
        "-    DataStreamer.getData((serverResponds: ServerRespond[]) => {\n",
        "-      // Update the state by creating a new array of data that consists of\n",
        "-      // Previous data in the state and the new data from server\n",
        "-      this.setState({ data: [...this.state.data, ...serverResponds] });\n",
        "-    });\n",
        "+    let x = 0;\n",
        "+    const interval = setInterval(() => {\n",
        "+      DataStreamer.getData((serverResponds: ServerRespond[]) => {\n",
        "+        this.setState({\n",
        "+          data: serverResponds,\n",
        "+          showGraph: true,\n",
        "+        });\n",
        "+      });\n",
        "+      x++;\n",
        "+      if (x > 1000) {\n",
        "+        clearInterval(interval);\n",
        "+      }\n",
        "+    }, 100);\n",
        "   }\n",
        "\n",
        "   /**\n",
        "diff --git a/src/Graph.tsx b/src/Graph.tsx\n",
        "index ec1430e..ddd4d55 100644\n",
        "--- a/src/Graph.tsx\n",
        "+++ b/src/Graph.tsx\n",
        "@@ -14,7 +14,7 @@ interface IProps {\n",
        "  * Perspective library adds load to HTMLElement prototype.\n",
        "  * This interface acts as a wrapper for Typescript compiler.\n",
        "  */\n",
        "-interface PerspectiveViewerElement {\n",
        "+interface PerspectiveViewerElement extends HTMLElement {\n",
        "   load: (table: Table) => void,\n",
        " }\n",
        "\n",
        "@@ -31,8 +31,9 @@ class Graph extends Component<IProps, {}> {\n",
        "   }\n",
        "\n",
        "   componentDidMount() {\n",
        "+    console.log('rendering');\n",
        "     // Get element to attach the table from the DOM.\n",
        "-    const elem: PerspectiveViewerElement = document.getElementsByTagName('perspective-viewer')[0] as unknown as PerspectiveViewerElement;\n",
        "+    const elem = document.getElementsByTagName('perspective-viewer')[0] as unknown as PerspectiveViewerElement;\n",
        "\n",
        "     const schema = {\n",
        "       stock: 'string',\n",
        "@@ -40,15 +41,20 @@ class Graph extends Component<IProps, {}> {\n",
        "       top_bid_price: 'float',\n",
        "       timestamp: 'date',\n",
        "     };\n",
        "-\n",
        "-    if (window.perspective && window.perspective.worker()) {\n",
        "+    if (window.perspective) {\n",
        "       this.table = window.perspective.worker().table(schema);\n",
        "     }\n",
        "     if (this.table) {\n",
        "+      console.log('change table');\n",
        "       // Load the `table` in the `<perspective-viewer>` DOM reference.\n",
        "\n",
        "       // Add more Perspective configurations here.\n",
        "       elem.load(this.table);\n",
        "+      elem.setAttribute('view', 'y_line');\n",
        "+      elem.setAttribute('column-pivots', '[\"stock\"]');\n",
        "+      elem.setAttribute('row-pivots', '[\"timestamp\"]');\n",
        "+      elem.setAttribute('columns', '[\"top_ask_price\"]');\n",
        "+      elem.setAttribute('aggregates', '{\"stock\":\"distinct count\",\"top_ask_price\":\"avg\",\"top_bid_price\":\"avg\",\"timestamp\":\"distinct count\"}');\n",
        "     }\n",
        "   }\n",
        "\n",
        "--\n",
        "2.17.1"
      ],
      "metadata": {
        "colab": {
          "base_uri": "https://localhost:8080/",
          "height": 106
        },
        "id": "GOytgYwv6Pcn",
        "outputId": "e8e0e0f4-2e37-40c4-ee25-f2ed49c9dd5b"
      },
      "execution_count": 8,
      "outputs": [
        {
          "output_type": "error",
          "ename": "SyntaxError",
          "evalue": "invalid syntax (<ipython-input-8-9504c966ed40>, line 1)",
          "traceback": [
            "\u001b[0;36m  File \u001b[0;32m\"<ipython-input-8-9504c966ed40>\"\u001b[0;36m, line \u001b[0;32m1\u001b[0m\n\u001b[0;31m    import React, { Component } from 'react';\u001b[0m\n\u001b[0m                  ^\u001b[0m\n\u001b[0;31mSyntaxError\u001b[0m\u001b[0;31m:\u001b[0m invalid syntax\n"
          ]
        }
      ]
    },
    {
      "cell_type": "code",
      "execution_count": null,
      "metadata": {
        "id": "oYJMIFZ96O-a"
      },
      "outputs": [],
      "source": []
    }
  ]
}